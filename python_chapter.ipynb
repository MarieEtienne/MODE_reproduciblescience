{
  "cells": [
    {
      "cell_type": "raw",
      "metadata": {},
      "source": [
        "---\n",
        "title: \"A simple chapter using Python\"\n",
        "execute: \n",
        "  freeze: auto\n",
        "output: \n",
        "  html_document:\n",
        "   toc: true\n",
        "   toc_float: true\n",
        "---"
      ],
      "id": "002763fe"
    },
    {
      "cell_type": "markdown",
      "metadata": {},
      "source": [
        "This chapter is a simple example using python\n",
        "\n",
        "You can import python librairies using the code\n"
      ],

      "id": "0bad91e6"
    },
    {
      "cell_type": "code",
      "metadata": {},
      "source": [
        "import pandas as pd\n",
        "import numpy as np"
      ],
      "id": "b8a86bcf",
      "execution_count": null,
      "outputs": []
    },
    {
      "cell_type": "markdown",
      "metadata": {},
      "source": [
        "and then describe the purpose of your chapter as well as executing python command.\n",
        "\n",
        "\n",
        "For example a basic summary of a dataset is given by \n"
      ],
      "id": "9c908817"
    },
    {
      "cell_type": "code",
      "metadata": {},
      "source": [
        "df = pd.read_csv(\"https://gist.githubusercontent.com/slopp/ce3b90b9168f2f921784de84fa445651/raw/4ecf3041f0ed4913e7c230758733948bc561f434/penguins.csv\")"
      ],
      "id": "653ee25a",
      "execution_count": null,
      "outputs": []
    },
    {
      "cell_type": "markdown",
      "metadata": {},
      "source": [
        "and produce a graph\n"
      ],
      "id": "fb1b686c"
    },
    {
      "cell_type": "code",
      "metadata": {},
      "source": [
        "df.boxplot(by = 'species', column = 'body_mass_g')  "
      ],
      "id": "5a66823f",
      "execution_count": null,
      "outputs": []
    }
  ],
  "metadata": {
    "kernelspec": {
      "name": "python3",
      "language": "python",
      "display_name": "Python 3 (ipykernel)"
    }
  },
  "nbformat": 4,
  "nbformat_minor": 5
}